{
  "nbformat": 4,
  "nbformat_minor": 0,
  "metadata": {
    "colab": {
      "name": "Homework 3 ",
      "provenance": [],
      "collapsed_sections": [],
      "authorship_tag": "ABX9TyPX7OOOaSgCZsECX99Zd/yX",
      "include_colab_link": true
    },
    "kernelspec": {
      "name": "python3",
      "display_name": "Python 3"
    },
    "language_info": {
      "name": "python"
    }
  },
  "cells": [
    {
      "cell_type": "markdown",
      "metadata": {
        "id": "view-in-github",
        "colab_type": "text"
      },
      "source": [
        "<a href=\"https://colab.research.google.com/github/juliannadesalle/ECGR-5106-Real-Time-Machine-Learning/blob/main/Homework_3.ipynb\" target=\"_parent\"><img src=\"https://colab.research.google.com/assets/colab-badge.svg\" alt=\"Open In Colab\"/></a>"
      ]
    },
    {
      "cell_type": "code",
      "execution_count": 2,
      "metadata": {
        "id": "oBCq98budlLG",
        "colab": {
          "base_uri": "https://localhost:8080/",
          "height": 302
        },
        "outputId": "68434127-884c-4de7-f3ec-e52cba29f080"
      },
      "outputs": [
        {
          "output_type": "stream",
          "name": "stdout",
          "text": [
            "Files already downloaded and verified\n",
            "Files already downloaded and verified\n"
          ]
        },
        {
          "output_type": "display_data",
          "data": {
            "text/plain": [
              "<Figure size 432x288 with 1 Axes>"
            ],
            "image/png": "[encoded data removed]"
          },
          "metadata": {
            "needs_background": "light"
          }
        }
      ],
      "source": [
        "#import necessary libraries and utilities\n",
        "%matplotlib inline\n",
        "from matplotlib import pyplot as plt\n",
        "import numpy as np\n",
        "import collections\n",
        "\n",
        "import torch\n",
        "import torch.nn as nn\n",
        "import torch.nn.functional as F\n",
        "import torch.optim as optim\n",
        "\n",
        "torch.set_printoptions(edgeitems=2)\n",
        "torch.manual_seed(123)\n",
        "#define class names in the dataset\n",
        "class_names = ['airplane','automobile','bird','cat','deer',\n",
        "               'dog','frog','horse','ship','truck']\n",
        "#setup dataset for training\n",
        "from torchvision import datasets, transforms\n",
        "data_path = '../data-unversioned/p1ch6/'\n",
        "\n",
        "#transform the data to a tensor and normalize in order to be used in the model\n",
        "cifar10 = datasets.CIFAR10(\n",
        "    data_path, train=True, download=True,\n",
        "    transform=transforms.Compose([\n",
        "        transforms.ToTensor(),\n",
        "        transforms.Normalize((0.4915, 0.4823, 0.4468),\n",
        "                             (0.2470, 0.2435, 0.2616))\n",
        "    ]))\n",
        "#transform the data to a tensor and normalize in order to be used in the model for validation\n",
        "cifar10_val = datasets.CIFAR10(\n",
        "    data_path, train=False, download=True,\n",
        "    transform=transforms.Compose([\n",
        "        transforms.ToTensor(),\n",
        "        transforms.Normalize((0.4915, 0.4823, 0.4468),\n",
        "                             (0.2470, 0.2435, 0.2616))\n",
        "    ]))\n",
        "\n",
        "#example subclass of the data set that is only 2 classes, airplanes and birds\n",
        "label_map = {0: 0, 2: 1}\n",
        "class_names = ['airplane', 'bird']\n",
        "cifar10 = [(img, label_map[label])\n",
        "          for img, label in cifar10\n",
        "          if label in [0, 2]]\n",
        "cifar10_val = [(img, label_map[label])\n",
        "              for img, label in cifar10_val\n",
        "              if label in [0, 2]]\n",
        "\n",
        "#define a connected model \n",
        "connected_model = nn.Sequential(\n",
        "            nn.Linear(3072, 1024),\n",
        "            nn.Tanh(),\n",
        "            nn.Linear(1024, 512),\n",
        "            nn.Tanh(),\n",
        "            nn.Linear(512, 128),\n",
        "            nn.Tanh(),\n",
        "            nn.Linear(128, 2))\n",
        "numel_list = [p.numel()\n",
        "              for p in connected_model.parameters()\n",
        "              if p.requires_grad == True]\n",
        "sum(numel_list), numel_list\n",
        "first_model = nn.Sequential(\n",
        "                nn.Linear(3072, 512),\n",
        "                nn.Tanh(),\n",
        "                nn.Linear(512, 2),\n",
        "                nn.LogSoftmax(dim=1))\n",
        "numel_list = [p.numel() for p in first_model.parameters()]\n",
        "sum(numel_list), numel_list\n",
        "linear = nn.Linear(3072, 1024)\n",
        "\n",
        "linear.weight.shape, linear.bias.shape\n",
        "\n",
        "#show convolution layer\n",
        "conv = nn.Conv2d(3, 16, kernel_size=3) # <1>\n",
        "conv\n",
        "conv.weight.shape, conv.bias.shape\n",
        "img, _ = cifar10[0]\n",
        "output = conv(img.unsqueeze(0))\n",
        "img.unsqueeze(0).shape, output.shape\n",
        "plt.imshow(img.mean(0), cmap='gray')\n",
        "plt.show()"
      ]
    },
    {
      "cell_type": "code",
      "source": [
        "#output image with different \"filters\"\n",
        "plt.figure(figsize=(10, 4.8))  # bookskip\n",
        "ax1 = plt.subplot(1, 2, 1)   # bookskip\n",
        "plt.title('output')   # bookskip\n",
        "plt.imshow(output[0, 0].detach(), cmap='gray')\n",
        "plt.subplot(1, 2, 2, sharex=ax1, sharey=ax1)  # bookskip\n",
        "plt.imshow(img.mean(0), cmap='gray')  # bookskip\n",
        "plt.title('input')  # bookskip\n",
        "plt.savefig('Ch8_F2_PyTorch.png')  # bookskip\n",
        "plt.show()"
      ],
      "metadata": {
        "id": "TvSAZAS9d9SK",
        "colab": {
          "base_uri": "https://localhost:8080/",
          "height": 318
        },
        "outputId": "621541c0-a8c0-4a18-aca9-555f395858c3"
      },
      "execution_count": 3,
      "outputs": [
        {
          "output_type": "display_data",
          "data": {
            "text/plain": [
              "<Figure size 720x345.6 with 2 Axes>"
            ],
            "image/png": "[encoded data removed]"
          },
          "metadata": {
            "needs_background": "light"
          }
        }
      ]
    },
    {
      "cell_type": "code",
      "source": [
        "#define convolution later\n",
        "conv = nn.Conv2d(3, 1, kernel_size=3, padding=1) # <1>\n",
        "output = conv(img.unsqueeze(0))\n",
        "img.unsqueeze(0).shape, output.shape"
      ],
      "metadata": {
        "id": "mOmTR8Nrd-xk",
        "colab": {
          "base_uri": "https://localhost:8080/"
        },
        "outputId": "8f37bb21-1b6c-4977-9025-072e8cb1c37f"
      },
      "execution_count": 4,
      "outputs": [
        {
          "output_type": "execute_result",
          "data": {
            "text/plain": [
              "(torch.Size([1, 3, 32, 32]), torch.Size([1, 1, 32, 32]))"
            ]
          },
          "metadata": {},
          "execution_count": 4
        }
      ]
    },
    {
      "cell_type": "code",
      "source": [
        "with torch.no_grad():\n",
        "    conv.bias.zero_()\n",
        "    \n",
        "with torch.no_grad():\n",
        "    conv.weight.fill_(1.0 / 9.0)"
      ],
      "metadata": {
        "id": "oA6rOULPd_-q"
      },
      "execution_count": 5,
      "outputs": []
    },
    {
      "cell_type": "code",
      "source": [
        "output = conv(img.unsqueeze(0))\n",
        "plt.figure(figsize=(10, 4.8))  # bookskip\n",
        "ax1 = plt.subplot(1, 2, 1)   # bookskip\n",
        "plt.title('output')   # bookskip\n",
        "plt.imshow(output[0, 0].detach(), cmap='gray')\n",
        "plt.subplot(1, 2, 2, sharex=ax1, sharey=ax1)  # bookskip\n",
        "plt.imshow(img.mean(0), cmap='gray')  # bookskip\n",
        "plt.title('input')  # bookskip\n",
        "plt.savefig('Ch8_F4_PyTorch.png')  # bookskip\n",
        "plt.show()"
      ],
      "metadata": {
        "id": "YMCvIC7yeBce",
        "colab": {
          "base_uri": "https://localhost:8080/",
          "height": 318
        },
        "outputId": "4d6a9440-dcf1-4269-9f93-4ce8aa99d9f5"
      },
      "execution_count": 6,
      "outputs": [
        {
          "output_type": "display_data",
          "data": {
            "text/plain": [
              "<Figure size 720x345.6 with 2 Axes>"
            ],
            "image/png": "[encoded data removed]"
          },
          "metadata": {
            "needs_background": "light"
          }
        }
      ]
    },
    {
      "cell_type": "code",
      "source": [
        "conv = nn.Conv2d(3, 1, kernel_size=3, padding=1)\n",
        "\n",
        "with torch.no_grad():\n",
        "    conv.weight[:] = torch.tensor([[-1.0, 0.0, 1.0],\n",
        "                                   [-1.0, 0.0, 1.0],\n",
        "                                   [-1.0, 0.0, 1.0]])\n",
        "    conv.bias.zero_()"
      ],
      "metadata": {
        "id": "uoGaikYJeC7m"
      },
      "execution_count": 7,
      "outputs": []
    },
    {
      "cell_type": "code",
      "source": [
        "output = conv(img.unsqueeze(0))\n",
        "plt.figure(figsize=(10, 4.8))  # bookskip\n",
        "ax1 = plt.subplot(1, 2, 1)   # bookskip\n",
        "plt.title('output')   # bookskip\n",
        "plt.imshow(output[0, 0].detach(), cmap='gray')\n",
        "plt.subplot(1, 2, 2, sharex=ax1, sharey=ax1)  # bookskip\n",
        "plt.imshow(img.mean(0), cmap='gray')  # bookskip\n",
        "plt.title('input')  # bookskip\n",
        "plt.savefig('Ch8_F5_PyTorch.png')  # bookskip\n",
        "plt.show()"
      ],
      "metadata": {
        "id": "ZFBxD2BWeEuW",
        "colab": {
          "base_uri": "https://localhost:8080/",
          "height": 318
        },
        "outputId": "47407041-d416-4f70-bc59-b7e7d42ea270"
      },
      "execution_count": 8,
      "outputs": [
        {
          "output_type": "display_data",
          "data": {
            "text/plain": [
              "<Figure size 720x345.6 with 2 Axes>"
            ],
            "image/png": "[encoded data removed]"
          },
          "metadata": {
            "needs_background": "light"
          }
        }
      ]
    },
    {
      "cell_type": "code",
      "source": [
        "pool = nn.MaxPool2d(2)\n",
        "output = pool(img.unsqueeze(0))\n",
        "\n",
        "img.unsqueeze(0).shape, output.shape"
      ],
      "metadata": {
        "id": "t5XbP2JheGPU",
        "colab": {
          "base_uri": "https://localhost:8080/"
        },
        "outputId": "c196b4d3-fb76-4a9f-da92-0ee86cc415c9"
      },
      "execution_count": 9,
      "outputs": [
        {
          "output_type": "execute_result",
          "data": {
            "text/plain": [
              "(torch.Size([1, 3, 32, 32]), torch.Size([1, 3, 16, 16]))"
            ]
          },
          "metadata": {},
          "execution_count": 9
        }
      ]
    },
    {
      "cell_type": "code",
      "source": [
        "#define a nn sequential model with different layers (just example not used)\n",
        "model = nn.Sequential(\n",
        "            nn.Conv2d(3, 16, kernel_size=3, padding=1),\n",
        "            nn.Tanh(),\n",
        "            nn.MaxPool2d(2),\n",
        "            nn.Conv2d(16, 8, kernel_size=3, padding=1),\n",
        "            nn.Tanh(),\n",
        "            nn.MaxPool2d(2),\n",
        "            # ...\n",
        "            )"
      ],
      "metadata": {
        "id": "kwonYowseHte"
      },
      "execution_count": 10,
      "outputs": []
    },
    {
      "cell_type": "code",
      "source": [
        "#define a nn sequential model with different layers (just example not used)\n",
        "model = nn.Sequential(\n",
        "            nn.Conv2d(3, 16, kernel_size=3, padding=1),\n",
        "            nn.Tanh(),\n",
        "            nn.MaxPool2d(2),\n",
        "            nn.Conv2d(16, 8, kernel_size=3, padding=1),\n",
        "            nn.Tanh(),\n",
        "            nn.MaxPool2d(2),\n",
        "            # ... <1>\n",
        "            nn.Linear(8 * 8 * 8, 32),\n",
        "            nn.Tanh(),\n",
        "            nn.Linear(32, 2))"
      ],
      "metadata": {
        "id": "o0RQfkFkeK7y"
      },
      "execution_count": 11,
      "outputs": []
    },
    {
      "cell_type": "code",
      "source": [
        "numel_list = [p.numel() for p in model.parameters()]\n",
        "sum(numel_list), numel_list"
      ],
      "metadata": {
        "id": "Yh7fjlsPe-Hn",
        "colab": {
          "base_uri": "https://localhost:8080/"
        },
        "outputId": "8b793adb-4e34-487c-ce7a-f66e0fa78cc8"
      },
      "execution_count": 12,
      "outputs": [
        {
          "output_type": "execute_result",
          "data": {
            "text/plain": [
              "(18090, [432, 16, 1152, 8, 16384, 32, 64, 2])"
            ]
          },
          "metadata": {},
          "execution_count": 12
        }
      ]
    },
    {
      "cell_type": "code",
      "source": [
        "#define Net as the nn module used \n",
        "class Net(nn.Module):\n",
        "    def __init__(self):\n",
        "        super().__init__()\n",
        "        self.conv1 = nn.Conv2d(3, 16, kernel_size=3, padding=1)\n",
        "        self.act1 = nn.Tanh()\n",
        "        self.pool1 = nn.MaxPool2d(2)\n",
        "        self.conv2 = nn.Conv2d(16, 8, kernel_size=3, padding=1)\n",
        "        self.act2 = nn.Tanh()\n",
        "        self.pool2 = nn.MaxPool2d(2)\n",
        "        self.conv3 = nn.Conv2d(16, 8, kernel_size=3, padding=1) #part 2, comment out for part 1\n",
        "        self.pool3 = nn.MaxPool2d(2)\n",
        "        self.fc1 = nn.Linear(8 * 8 * 8, 32)\n",
        "        self.act3 = nn.Tanh()\n",
        "        self.fc2 = nn.Linear(32, 10)\n",
        "#frward pass for training the model\n",
        "    def forward(self, x):\n",
        "        out = self.pool1(self.act1(self.conv1(x)))\n",
        "        out = self.pool2(self.act2(self.conv2(x)))\n",
        "        out = self.pool3(self.act3(self.conv3(out)))#part 2, comment out for part 1\n",
        "        out = out.view(-1, 8 * 8 * 8) # <1>\n",
        "        out = self.act3(self.fc1(out))\n",
        "        out = self.fc2(out)\n",
        "        return out\n",
        "model = Net()\n"
      ],
      "metadata": {
        "id": "AAghO7vrfBDC"
      },
      "execution_count": 13,
      "outputs": []
    },
    {
      "cell_type": "code",
      "source": [
        "model = Net()\n",
        "\n",
        "numel_list = [p.numel() for p in model.parameters()]\n",
        "sum(numel_list), numel_list"
      ],
      "metadata": {
        "id": "5mwc7prHfCcT",
        "colab": {
          "base_uri": "https://localhost:8080/"
        },
        "outputId": "990ae0be-7a75-4916-c88d-6c3accf2911d"
      },
      "execution_count": 14,
      "outputs": [
        {
          "output_type": "execute_result",
          "data": {
            "text/plain": [
              "(19514, [432, 16, 1152, 8, 1152, 8, 16384, 32, 320, 10])"
            ]
          },
          "metadata": {},
          "execution_count": 14
        }
      ]
    },
    {
      "cell_type": "code",
      "source": [
        "import torch.nn.functional as F\n",
        "#define Net as the nn module used \n",
        "class Net(nn.Module):\n",
        "    def __init__(self):\n",
        "        super().__init__()\n",
        "        self.conv1 = nn.Conv2d(3, 16, kernel_size=3, padding=1)\n",
        "        self.conv2 = nn.Conv2d(16, 32, kernel_size=3, padding=1)\n",
        "        self.conv3 = nn.Conv2d(32, 32, kernel_size=3, padding=1)#part 2, comment out for part 1\n",
        "        self.fc1 = nn.Linear(8 * 8 * 8, 32)\n",
        "        self.fc2 = nn.Linear(32, 10)\n",
        "        \n",
        "#forward pass for training the model      \n",
        "    def forward(self, x):\n",
        "        out = F.max_pool2d(torch.tanh(self.conv1(x)), 2)\n",
        "        out = F.max_pool2d(torch.tanh(self.conv2(out)), 2)\n",
        "        out = F.max_pool2d(torch.tanh(self.conv3(out)), 2)#part 2, comment out for part 1\n",
        "        out = out.view(-1, 8 * 8 * 8)\n",
        "        out = torch.tanh(self.fc1(out))\n",
        "        out = self.fc2(out)\n",
        "        return out"
      ],
      "metadata": {
        "id": "fXJG35FsfDlm"
      },
      "execution_count": 15,
      "outputs": []
    },
    {
      "cell_type": "code",
      "source": [
        "model = Net()\n",
        "model(img.unsqueeze(0))"
      ],
      "metadata": {
        "colab": {
          "base_uri": "https://localhost:8080/"
        },
        "id": "FOC9FsQrfFmJ",
        "outputId": "c9b0cd02-eeb6-435a-a2e9-c1f08ceb4d8d"
      },
      "execution_count": 16,
      "outputs": [
        {
          "output_type": "execute_result",
          "data": {
            "text/plain": [
              "tensor([[ 0.1487, -0.1006,  0.0701,  0.0019, -0.1129,  0.1378, -0.0671,  0.0077,\n",
              "         -0.1341,  0.0243]], grad_fn=<AddmmBackward0>)"
            ]
          },
          "metadata": {},
          "execution_count": 16
        }
      ]
    },
    {
      "cell_type": "code",
      "source": [
        "import datetime  # <1>\n",
        "#training loop definition\n",
        "def training_loop(n_epochs, optimizer, model, loss_fn, train_loader):\n",
        "    for epoch in range(1, n_epochs + 1):  # <2>\n",
        "        loss_train = 0.0\n",
        "        for imgs, labels in train_loader:  # <3>\n",
        "            \n",
        "            outputs = model(imgs)  # <4>\n",
        "            \n",
        "            loss = loss_fn(outputs, labels)  # <5>\n",
        "\n",
        "            optimizer.zero_grad()  # <6>\n",
        "            \n",
        "            loss.backward()  # <7>\n",
        "            \n",
        "            optimizer.step()  # <8>\n",
        "\n",
        "            loss_train += loss.item()  # <9>\n",
        "\n",
        "        if epoch == 1 or epoch % 10 == 0:\n",
        "            print('{} Epoch {}, Training loss {}'.format(\n",
        "                datetime.datetime.now(), epoch,\n",
        "                loss_train / len(train_loader)))  # <10>"
      ],
      "metadata": {
        "id": "ncaFnlDVfHNy"
      },
      "execution_count": 18,
      "outputs": []
    },
    {
      "cell_type": "code",
      "source": [
        " \n",
        "train_loader = torch.utils.data.DataLoader(cifar10, batch_size=64,\n",
        "                                           shuffle=True)  # <1>\n",
        " #define the model \n",
        "model = Net()  #  <2>\n",
        "optimizer = optim.SGD(model.parameters(), lr=1e-2)  #  <3>\n",
        "loss_fn = nn.CrossEntropyLoss()  #  <4>\n",
        " #Training loop to run on the model \n",
        "training_loop(  # <5>\n",
        "    n_epochs = 3,\n",
        "    optimizer = optimizer,\n",
        "    model = model,\n",
        "    loss_fn = loss_fn,\n",
        "    train_loader = train_loader,\n",
        ")\n",
        " \n",
        "train_loader = torch.utils.data.DataLoader(cifar10, batch_size=64,\n",
        "                                           shuffle=False)\n",
        "val_loader = torch.utils.data.DataLoader(cifar10_val, batch_size=64,\n",
        "                                         shuffle=False)\n",
        " #validation definition with an analysis of accuracy for the model\n",
        "def validate(model, train_loader, val_loader):\n",
        "    for name, loader in [(\"train\", train_loader), (\"val\", val_loader)]:\n",
        "        correct = 0\n",
        "        total = 0\n",
        " \n",
        "        with torch.no_grad():  # <1>\n",
        "            for imgs, labels in loader:\n",
        "                outputs = model(imgs)\n",
        "                _, predicted = torch.max(outputs, dim=1) # <2>\n",
        "                total += labels.shape[0]  # <3>\n",
        "                correct += int((predicted == labels).sum())  # <4>\n",
        " \n",
        "        print(\"Accuracy {}: {:.2f}\".format(name , correct / total))\n",
        " #print validation\n",
        "validate(model, train_loader, val_loader)\n",
        "             "
      ],
      "metadata": {
        "colab": {
          "base_uri": "https://localhost:8080/"
        },
        "id": "0s3_QrxvKt2F",
        "outputId": "805c842b-5671-4fe3-f5dc-c7965eb923ba"
      },
      "execution_count": 19,
      "outputs": [
        {
          "output_type": "stream",
          "name": "stdout",
          "text": [
            "2022-03-31 00:18:51.143895 Epoch 1, Training loss 1.0487888470576827\n",
            "Accuracy train: 0.79\n",
            "Accuracy val: 0.81\n"
          ]
        }
      ]
    },
    {
      "cell_type": "code",
      "source": [
        "device = (torch.device('cuda') if torch.cuda.is_available()\n",
        "          else torch.device('cpu'))\n",
        "print(f\"Training on device {device}.\")"
      ],
      "metadata": {
        "colab": {
          "base_uri": "https://localhost:8080/"
        },
        "id": "4EenKP5Lovn2",
        "outputId": "cfbef938-8f8f-409e-b216-05a75886bbdc"
      },
      "execution_count": 20,
      "outputs": [
        {
          "output_type": "stream",
          "name": "stdout",
          "text": [
            "Training on device cpu.\n"
          ]
        }
      ]
    },
    {
      "cell_type": "code",
      "source": [
        "train_loader = torch.utils.data.DataLoader(cifar10, batch_size=64,\n",
        "                                           shuffle=False)\n",
        "val_loader = torch.utils.data.DataLoader(cifar10_val, batch_size=64,\n",
        "                                         shuffle=False)\n",
        "all_acc_dict = collections.OrderedDict()\n"
      ],
      "metadata": {
        "id": "yk0EUo8Go5Jf"
      },
      "execution_count": 21,
      "outputs": []
    },
    {
      "cell_type": "code",
      "source": [
        "import datetime\n",
        "#Define the trianing loop used by the Res10 Model \n",
        "def training_loop(n_epochs, optimizer, model, loss_fn, train_loader):\n",
        "    for epoch in range(1, n_epochs + 1):\n",
        "        loss_train = 0.0\n",
        "        for imgs, labels in train_loader:\n",
        "            imgs = imgs.to(device=device)  # <1>\n",
        "            labels = labels.to(device=device)\n",
        "            outputs = model(imgs)\n",
        "            loss = loss_fn(outputs, labels)\n",
        "\n",
        "            optimizer.zero_grad()\n",
        "            loss.backward()\n",
        "            optimizer.step()\n",
        "\n",
        "            loss_train += loss.item()\n",
        "\n",
        "        if epoch == 1 or epoch % 10 == 0:\n",
        "            print('{} Epoch {}, Training loss {}'.format(\n",
        "                datetime.datetime.now(), epoch,\n",
        "                loss_train / len(train_loader)))"
      ],
      "metadata": {
        "id": "11Fo8sdOo9-h"
      },
      "execution_count": 22,
      "outputs": []
    },
    {
      "cell_type": "code",
      "source": [
        "#Res10 Block\n",
        "class ResBlock(nn.Module):\n",
        "    def __init__(self, n_chans):\n",
        "        super(ResBlock, self).__init__()\n",
        "        self.conv = nn.Conv2d(n_chans, n_chans, kernel_size=3,\n",
        "                              padding=1, bias=False)  # <1>\n",
        "        self.batch_norm = nn.BatchNorm2d(num_features=n_chans)\n",
        "        torch.nn.init.kaiming_normal_(self.conv.weight,\n",
        "                                      nonlinearity='relu')  # <2>\n",
        "        torch.nn.init.constant_(self.batch_norm.weight, 0.5)\n",
        "        torch.nn.init.zeros_(self.batch_norm.bias)\n",
        "\n",
        "    def forward(self, x):\n",
        "        out = self.conv(x)\n",
        "        out = self.batch_norm(out)\n",
        "        out = torch.relu(out)\n",
        "        return out + x"
      ],
      "metadata": {
        "id": "3HS8hS5Xo-iD"
      },
      "execution_count": 23,
      "outputs": []
    },
    {
      "cell_type": "code",
      "source": [
        "#Res10 Model \n",
        "class Res10(nn.Module):\n",
        "    def __init__(self, n_chans1=16, n_blocks=10):\n",
        "        super().__init__()\n",
        "        self.n_chans1 = n_chans1\n",
        "        self.conv1 = nn.Conv2d(3, n_chans1, kernel_size=3, padding=1)\n",
        "        self.resblocks = nn.Sequential(\n",
        "            *(n_blocks * [ResBlock(n_chans=n_chans1)]))\n",
        "        self.fc1 = nn.Linear(8 * 8 * n_chans1, 32)\n",
        "        self.fc2 = nn.Linear(32, 2)\n",
        "        \n",
        "    def forward(self, x):\n",
        "        out = F.max_pool2d(torch.relu(self.conv1(x)), 2)\n",
        "        out = self.resblocks(out)\n",
        "        out = F.max_pool2d(out, 2)\n",
        "        out = out.view(-1, 8 * 8 * self.n_chans1)\n",
        "        out = torch.relu(self.fc1(out))\n",
        "        out = self.fc2(out)\n",
        "        return out"
      ],
      "metadata": {
        "id": "chS94nIXpAeX"
      },
      "execution_count": 28,
      "outputs": []
    },
    {
      "cell_type": "code",
      "source": [
        "model = Res10(n_chans1=32, n_blocks=10).to(device=device)\n",
        "optimizer = optim.SGD(model.parameters(), lr=3e-3)\n",
        "loss_fn = nn.CrossEntropyLoss()\n",
        "#training loop for the Res10 model \n",
        "training_loop(\n",
        "    n_epochs = 300,\n",
        "    optimizer = optimizer,\n",
        "    model = model,\n",
        "    loss_fn = loss_fn,\n",
        "    train_loader = train_loader,\n",
        ")\n",
        "#print accuracy of Res10 Model\n",
        "all_acc_dict[\"baseline\"] = validate(model, train_loader, val_loader)\n"
      ],
      "metadata": {
        "colab": {
          "base_uri": "https://localhost:8080/"
        },
        "id": "Dlf-fgPJpDl0",
        "outputId": "b9d446dd-9453-45ed-ba32-1cef3b3b63c5"
      },
      "execution_count": 30,
      "outputs": [
        {
          "output_type": "stream",
          "name": "stdout",
          "text": [
            "2022-03-31 00:36:03.410246 Epoch 1, Training loss 0.4819026188865589\n",
            "2022-03-31 00:43:51.809554 Epoch 10, Training loss 0.24233815448868806\n",
            "Accuracy train: 0.89\n",
            "Accuracy val: 0.86\n"
          ]
        }
      ]
    },
    {
      "cell_type": "code",
      "source": [
        "#define training loop for loop that has weight decay factored into it\n",
        "def training_loop_l2reg(n_epochs, optimizer, model, loss_fn,\n",
        "                        train_loader):\n",
        "    for epoch in range(1, n_epochs + 1):\n",
        "        loss_train = 0.0\n",
        "        for imgs, labels in train_loader:\n",
        "            imgs = imgs.to(device=device)\n",
        "            labels = labels.to(device=device)\n",
        "            outputs = model(imgs)\n",
        "            loss = loss_fn(outputs, labels)\n",
        "\n",
        "            l2_lambda = 0.001\n",
        "            l2_norm = sum(p.pow(2.0).sum()\n",
        "                          for p in model.parameters())  # <1>\n",
        "            loss = loss + l2_lambda * l2_norm\n",
        "\n",
        "            optimizer.zero_grad()\n",
        "            loss.backward()\n",
        "            optimizer.step()\n",
        "            \n",
        "            loss_train += loss.item()\n",
        "        if epoch == 1 or epoch % 10 == 0:\n",
        "            print('{} Epoch {}, Training loss {}'.format(\n",
        "                datetime.datetime.now(), epoch,\n",
        "                loss_train / len(train_loader)))"
      ],
      "metadata": {
        "id": "p8Ex-Qhz0XnQ"
      },
      "execution_count": 31,
      "outputs": []
    },
    {
      "cell_type": "code",
      "source": [
        "model = Res10().to(device=device)\n",
        "optimizer = optim.SGD(model.parameters(), lr=1e-2)\n",
        "loss_fn = nn.CrossEntropyLoss()\n",
        "#training loop for Res10 using a training loop that utilizes weight decay\n",
        "training_loop_l2reg(\n",
        "    n_epochs = 300,\n",
        "    optimizer = optimizer,\n",
        "    model = model,\n",
        "    loss_fn = loss_fn,\n",
        "    train_loader = train_loader,\n",
        ")\n",
        "all_acc_dict[\"l2 reg\"] = validate(model, train_loader, val_loader)"
      ],
      "metadata": {
        "id": "Ykizi0hn0Yp1",
        "colab": {
          "base_uri": "https://localhost:8080/"
        },
        "outputId": "57db7d52-a42e-4790-abe1-e16bc1c112e1"
      },
      "execution_count": 32,
      "outputs": [
        {
          "output_type": "stream",
          "name": "stdout",
          "text": [
            "2022-03-31 00:44:37.099314 Epoch 1, Training loss 0.5488201495568463\n",
            "2022-03-31 00:47:50.022528 Epoch 10, Training loss 0.2918118998218494\n",
            "2022-03-31 00:51:25.058385 Epoch 20, Training loss 0.20687167047505167\n",
            "2022-03-31 00:54:56.740276 Epoch 30, Training loss 0.19395285612268812\n",
            "2022-03-31 00:58:25.441140 Epoch 40, Training loss 0.21281606794162922\n",
            "2022-03-31 01:01:55.133659 Epoch 50, Training loss 0.07576616445354595\n",
            "2022-03-31 01:05:22.360686 Epoch 60, Training loss 0.06356628170343721\n",
            "2022-03-31 01:08:51.207484 Epoch 70, Training loss 0.0589458174101866\n",
            "2022-03-31 01:12:21.201672 Epoch 80, Training loss 0.055691909566996205\n",
            "2022-03-31 01:15:51.660886 Epoch 90, Training loss 0.052920935687365805\n",
            "2022-03-31 01:19:17.072318 Epoch 100, Training loss 0.050430315362799696\n",
            "2022-03-31 01:22:43.812104 Epoch 110, Training loss 0.04812808825996271\n",
            "2022-03-31 01:26:12.100902 Epoch 120, Training loss 0.04598340954465471\n",
            "2022-03-31 01:29:39.027213 Epoch 130, Training loss 0.0439801936981025\n",
            "2022-03-31 01:33:07.142309 Epoch 140, Training loss 0.04207195441244514\n",
            "2022-03-31 01:36:34.545096 Epoch 150, Training loss 0.04030161835015959\n",
            "2022-03-31 01:40:01.048971 Epoch 160, Training loss 0.03866859542051698\n",
            "2022-03-31 01:43:23.349932 Epoch 170, Training loss 0.03712988310274045\n",
            "2022-03-31 01:46:48.686726 Epoch 180, Training loss 0.03568651484456032\n",
            "2022-03-31 01:50:11.983324 Epoch 190, Training loss 0.034333998040788495\n",
            "2022-03-31 01:53:33.564968 Epoch 200, Training loss 0.033060284509400656\n",
            "2022-03-31 01:56:59.191160 Epoch 210, Training loss 0.031866007181964105\n",
            "2022-03-31 02:00:22.078776 Epoch 220, Training loss 0.03073839451761762\n",
            "2022-03-31 02:03:42.040019 Epoch 230, Training loss 0.029683209077757636\n",
            "2022-03-31 02:07:01.866758 Epoch 240, Training loss 0.02869120801377828\n",
            "2022-03-31 02:10:23.243707 Epoch 250, Training loss 0.027759806816555134\n",
            "2022-03-31 02:13:42.885227 Epoch 260, Training loss 0.026872539501281302\n",
            "2022-03-31 02:17:03.682807 Epoch 270, Training loss 0.026033817215045545\n",
            "2022-03-31 02:20:24.363925 Epoch 280, Training loss 0.025250781422397894\n",
            "2022-03-31 02:23:44.828726 Epoch 290, Training loss 0.024513585872615977\n",
            "2022-03-31 02:27:07.414758 Epoch 300, Training loss 0.023821403147878163\n",
            "Accuracy train: 1.00\n",
            "Accuracy val: 0.88\n"
          ]
        }
      ]
    },
    {
      "cell_type": "code",
      "source": [
        "#Res10 model that utilizes a dropout function within the model\n",
        "lass Res10(nn.Module):\n",
        "    def __init__(self, n_chans1=32, n_blocks=10):\n",
        "        super().__init__()\n",
        "        self.n_chans1 = n_chans1\n",
        "        self.conv1 = nn.Conv2d(3, n_chans1, kernel_size=3, padding=1)\n",
        "        self.conv1_dropout = nn.Dropout2d(p=0.3)\n",
        "        self.resblocks = nn.Sequential(\n",
        "            *(n_blocks * [ResBlock(n_chans=n_chans1)]))\n",
        "        self.conv2 = nn.Conv2d(n_chans1, n_chans1 // 2, kernel_size=3,\n",
        "                               padding=1)\n",
        "        self.conv2_dropout = nn.Dropout2d(p=0.3)\n",
        "        self.fc1 = nn.Linear(8 * 8 * n_chans1 // 2, 32)\n",
        "        self.fc2 = nn.Linear(32, 2)\n",
        "        \n",
        "    def forward(self, x):\n",
        "        out = F.max_pool2d(torch.tanh(self.conv1(x)), 2)\n",
        "        out = self.conv1_dropout(out)\n",
        "        out = F.max_pool2d(torch.tanh(self.conv2(out)), 2)\n",
        "        out = self.conv2_dropout(out)\n",
        "        out = out.view(-1, 8 * 8 * self.n_chans1 // 2)\n",
        "        out = torch.tanh(self.fc1(out))\n",
        "        out = self.fc2(out)\n",
        "        return out"
      ],
      "metadata": {
        "id": "ynUaYhMs84h8"
      },
      "execution_count": 33,
      "outputs": []
    },
    {
      "cell_type": "code",
      "source": [
        "model = Res10(n_chans1=32).to(device=device)\n",
        "optimizer = optim.SGD(model.parameters(), lr=1e-2)\n",
        "loss_fn = nn.CrossEntropyLoss()\n",
        "\n",
        "#training loop for Res10 model with dropout function \n",
        "training_loop(\n",
        "    n_epochs = 300,\n",
        "    optimizer = optimizer,\n",
        "    model = model,\n",
        "    loss_fn = loss_fn,\n",
        "    train_loader = train_loader,\n",
        ")\n",
        "all_acc_dict[\"dropout\"] = validate(model, train_loader, val_loader)"
      ],
      "metadata": {
        "id": "bQ5Srvtj89zD",
        "colab": {
          "base_uri": "https://localhost:8080/"
        },
        "outputId": "b40697ab-bbaa-4b92-85f2-6a6d71a7178b"
      },
      "execution_count": 34,
      "outputs": [
        {
          "output_type": "stream",
          "name": "stdout",
          "text": [
            "2022-03-31 02:27:27.526918 Epoch 1, Training loss 0.5396672688472043\n",
            "2022-03-31 02:28:51.272464 Epoch 10, Training loss 0.3673182686043393\n",
            "2022-03-31 02:30:24.663154 Epoch 20, Training loss 0.33112090114195636\n",
            "2022-03-31 02:31:57.303220 Epoch 30, Training loss 0.30735219094403987\n",
            "2022-03-31 02:33:29.629906 Epoch 40, Training loss 0.2898724427458587\n",
            "2022-03-31 02:35:01.714433 Epoch 50, Training loss 0.27051135717303887\n",
            "2022-03-31 02:36:35.755464 Epoch 60, Training loss 0.2615134852707006\n",
            "2022-03-31 02:38:07.670279 Epoch 70, Training loss 0.2471734699170301\n",
            "2022-03-31 02:39:38.265150 Epoch 80, Training loss 0.23049439276289788\n",
            "2022-03-31 02:41:07.383607 Epoch 90, Training loss 0.21982835076606957\n",
            "2022-03-31 02:42:36.981610 Epoch 100, Training loss 0.20889631374056933\n",
            "2022-03-31 02:44:05.986775 Epoch 110, Training loss 0.1972650309467012\n",
            "2022-03-31 02:45:35.255286 Epoch 120, Training loss 0.1903580781191018\n",
            "2022-03-31 02:47:05.914537 Epoch 130, Training loss 0.17613023903909003\n",
            "2022-03-31 02:48:34.249410 Epoch 140, Training loss 0.16613482674405833\n",
            "2022-03-31 02:50:04.465248 Epoch 150, Training loss 0.16118814131826353\n",
            "2022-03-31 02:51:33.773350 Epoch 160, Training loss 0.1540818133266868\n",
            "2022-03-31 02:53:02.123270 Epoch 170, Training loss 0.14230049183224416\n",
            "2022-03-31 02:54:31.303875 Epoch 180, Training loss 0.1397623580874531\n",
            "2022-03-31 02:56:01.165039 Epoch 190, Training loss 0.12992905751819822\n",
            "2022-03-31 02:57:30.274119 Epoch 200, Training loss 0.12477380113237223\n",
            "2022-03-31 02:58:59.052547 Epoch 210, Training loss 0.11596611918062921\n",
            "2022-03-31 03:00:28.546275 Epoch 220, Training loss 0.11456870809671985\n",
            "2022-03-31 03:01:56.939204 Epoch 230, Training loss 0.10950256772576623\n",
            "2022-03-31 03:03:25.696637 Epoch 240, Training loss 0.09831744937854968\n",
            "2022-03-31 03:04:53.335914 Epoch 250, Training loss 0.09695925952712442\n",
            "2022-03-31 03:06:22.091002 Epoch 260, Training loss 0.0909585740512154\n",
            "2022-03-31 03:07:50.757428 Epoch 270, Training loss 0.08822368899253523\n",
            "2022-03-31 03:09:19.413308 Epoch 280, Training loss 0.08629287389006204\n",
            "2022-03-31 03:10:47.053396 Epoch 290, Training loss 0.08274839986946173\n",
            "2022-03-31 03:12:16.508484 Epoch 300, Training loss 0.0825397257639724\n",
            "Accuracy train: 0.97\n",
            "Accuracy val: 0.88\n"
          ]
        }
      ]
    },
    {
      "cell_type": "code",
      "source": [
        "#Model defined to use Res10 with batch normalization\n",
        "class Res10BatchNorm(nn.Module):\n",
        "    def __init__(self, n_chans1=32, n_blocks=10):\n",
        "        super().__init__()\n",
        "        self.n_chans1 = n_chans1\n",
        "        self.conv1 = nn.Conv2d(3, n_chans1, kernel_size=3, padding=1)\n",
        "        self.conv1_batchnorm = nn.BatchNorm2d(num_features=n_chans1)\n",
        "        self.resblocks = nn.Sequential(\n",
        "            *(n_blocks * [ResBlock(n_chans=n_chans1)]))\n",
        "        self.conv2 = nn.Conv2d(n_chans1, n_chans1 // 2, kernel_size=3, \n",
        "                               padding=1)\n",
        "        self.conv2_batchnorm = nn.BatchNorm2d(num_features=n_chans1 // 2)\n",
        "        self.fc1 = nn.Linear(8 * 8 * n_chans1 // 2, 32)\n",
        "        self.fc2 = nn.Linear(32, 2)\n",
        "        \n",
        "    def forward(self, x):\n",
        "        out = self.conv1_batchnorm(self.conv1(x))\n",
        "        out = F.max_pool2d(torch.tanh(out), 2)\n",
        "        out = self.conv2_batchnorm(self.conv2(out))\n",
        "        out = F.max_pool2d(torch.tanh(out), 2)\n",
        "        out = out.view(-1, 8 * 8 * self.n_chans1 // 2)\n",
        "        out = torch.tanh(self.fc1(out))\n",
        "        out = self.fc2(out)\n",
        "        return out"
      ],
      "metadata": {
        "id": "lSM_sQICobv9"
      },
      "execution_count": 35,
      "outputs": []
    },
    {
      "cell_type": "code",
      "source": [
        "model = Res10BatchNorm(n_chans1=32).to(device=device)\n",
        "optimizer = optim.SGD(model.parameters(), lr=1e-2)\n",
        "loss_fn = nn.CrossEntropyLoss()\n",
        "#training loop for the Res10 model that utilizes batch normalization\n",
        "training_loop(\n",
        "    n_epochs = 300,\n",
        "    optimizer = optimizer,\n",
        "    model = model,\n",
        "    loss_fn = loss_fn,\n",
        "    train_loader = train_loader,\n",
        ")\n",
        "all_acc_dict[\"batch_norm\"] = validate(model, train_loader, val_loader)"
      ],
      "metadata": {
        "id": "jKhiRTciodgi",
        "colab": {
          "base_uri": "https://localhost:8080/"
        },
        "outputId": "8c2cca78-fbca-4fbd-8603-5de179cf643f"
      },
      "execution_count": 36,
      "outputs": [
        {
          "output_type": "stream",
          "name": "stdout",
          "text": [
            "2022-03-31 03:12:34.625815 Epoch 1, Training loss 0.4540349269748493\n",
            "2022-03-31 03:14:17.068016 Epoch 10, Training loss 0.2682789916730231\n",
            "2022-03-31 03:16:10.542700 Epoch 20, Training loss 0.21056518380998807\n",
            "2022-03-31 03:18:03.576515 Epoch 30, Training loss 0.16306047072740876\n",
            "2022-03-31 03:19:57.964214 Epoch 40, Training loss 0.12141295299408542\n",
            "2022-03-31 03:21:52.039663 Epoch 50, Training loss 0.0847946636402493\n",
            "2022-03-31 03:23:44.923419 Epoch 60, Training loss 0.06186309054636272\n",
            "2022-03-31 03:25:37.545389 Epoch 70, Training loss 0.04549520150728666\n",
            "2022-03-31 03:27:30.853223 Epoch 80, Training loss 0.03603569077695631\n",
            "2022-03-31 03:29:23.756045 Epoch 90, Training loss 0.015809819784466248\n",
            "2022-03-31 03:31:15.353444 Epoch 100, Training loss 0.010231241230870698\n",
            "2022-03-31 03:33:08.174180 Epoch 110, Training loss 0.006981905084103346\n",
            "2022-03-31 03:35:02.210846 Epoch 120, Training loss 0.004994255549920972\n",
            "2022-03-31 03:36:55.068953 Epoch 130, Training loss 0.003751708451913563\n",
            "2022-03-31 03:38:47.299569 Epoch 140, Training loss 0.0029496538814655533\n",
            "2022-03-31 03:40:39.988092 Epoch 150, Training loss 0.0023931249209448316\n",
            "2022-03-31 03:42:32.295921 Epoch 160, Training loss 0.001982991327457486\n",
            "2022-03-31 03:44:24.876960 Epoch 170, Training loss 0.001680201710132099\n",
            "2022-03-31 03:46:17.697923 Epoch 180, Training loss 0.00144542605804493\n",
            "2022-03-31 03:48:08.477286 Epoch 190, Training loss 0.0012622645323514749\n",
            "2022-03-31 03:50:01.605411 Epoch 200, Training loss 0.0011164909256488726\n",
            "2022-03-31 03:51:54.160259 Epoch 210, Training loss 0.0009980966401164817\n",
            "2022-03-31 03:53:44.956372 Epoch 220, Training loss 0.0009016940445464199\n",
            "2022-03-31 03:55:37.906418 Epoch 230, Training loss 0.0008200168056090237\n",
            "2022-03-31 03:57:30.639623 Epoch 240, Training loss 0.0007510232109988737\n",
            "2022-03-31 03:59:21.604722 Epoch 250, Training loss 0.0006918683719478702\n",
            "2022-03-31 04:01:12.410147 Epoch 260, Training loss 0.0006404193742927401\n",
            "2022-03-31 04:03:03.821429 Epoch 270, Training loss 0.0005956950226159482\n",
            "2022-03-31 04:04:54.331899 Epoch 280, Training loss 0.0005566070268188669\n",
            "2022-03-31 04:06:45.575295 Epoch 290, Training loss 0.0005217293740078143\n",
            "2022-03-31 04:08:35.969593 Epoch 300, Training loss 0.0004904250992324121\n",
            "Accuracy train: 1.00\n",
            "Accuracy val: 0.88\n"
          ]
        }
      ]
    }
  ]
}